{
 "cells": [
  {
   "cell_type": "code",
   "execution_count": 1,
   "metadata": {},
   "outputs": [
    {
     "name": "stderr",
     "output_type": "stream",
     "text": [
      "2022-11-18 12:48:20.274264: I tensorflow/core/platform/cpu_feature_guard.cc:193] This TensorFlow binary is optimized with oneAPI Deep Neural Network Library (oneDNN) to use the following CPU instructions in performance-critical operations:  AVX2 FMA\n",
      "To enable them in other operations, rebuild TensorFlow with the appropriate compiler flags.\n",
      "2022-11-18 12:48:20.464695: E tensorflow/stream_executor/cuda/cuda_blas.cc:2981] Unable to register cuBLAS factory: Attempting to register factory for plugin cuBLAS when one has already been registered\n",
      "2022-11-18 12:48:21.312983: W tensorflow/stream_executor/platform/default/dso_loader.cc:64] Could not load dynamic library 'libnvinfer.so.7'; dlerror: libnvinfer.so.7: cannot open shared object file: No such file or directory\n",
      "2022-11-18 12:48:21.313056: W tensorflow/stream_executor/platform/default/dso_loader.cc:64] Could not load dynamic library 'libnvinfer_plugin.so.7'; dlerror: libnvinfer_plugin.so.7: cannot open shared object file: No such file or directory\n",
      "2022-11-18 12:48:21.313066: W tensorflow/compiler/tf2tensorrt/utils/py_utils.cc:38] TF-TRT Warning: Cannot dlopen some TensorRT libraries. If you would like to use Nvidia GPU with TensorRT, please make sure the missing libraries mentioned above are installed properly.\n"
     ]
    }
   ],
   "source": [
    "import os\n",
    "from music21 import converter, pitch, interval, instrument, note, chord\n",
    "import numpy as np\n",
    "import json\n",
    "import tensorflow as tf\n",
    "\n",
    "data = './data/'\n",
    "\n",
    "if not os.path.exists(data):\n",
    "    os.makedirs(data)"
   ]
  },
  {
   "cell_type": "code",
   "execution_count": 2,
   "metadata": {},
   "outputs": [
    {
     "name": "stdout",
     "output_type": "stream",
     "text": [
      "88 songs found by Giuliani\n"
     ]
    }
   ],
   "source": [
    "songList = [song for song in os.listdir(data) if song.lower().find('giuliani')>-1]\n",
    "print(len(songList) , 'songs found by Giuliani')"
   ]
  },
  {
   "cell_type": "code",
   "execution_count": 3,
   "metadata": {},
   "outputs": [
    {
     "name": "stdout",
     "output_type": "stream",
     "text": [
      "32 monophonic songs found by Giuliani\n"
     ]
    }
   ],
   "source": [
    "def monophonic(stream):\n",
    "    return len(instrument.partitionByInstrument(stream).parts) == 1\n",
    "\n",
    "songList = [song for song in songList if monophonic(converter.parse(data+song))]\n",
    "print(len(songList) , 'monophonic songs found by Giuliani')"
   ]
  },
  {
   "cell_type": "code",
   "execution_count": 4,
   "metadata": {},
   "outputs": [],
   "source": [
    "if not os.path.exists('./giuliani-monophonic/'):\n",
    "    os.makedirs('./giuliani-monophonic/')\n",
    "\n",
    "if len(os.listdir('./giuliani-monophonic/')) == 0:\n",
    "    for song in songList:\n",
    "        os.system('cp ' + data + song + ' ./giuliani-monophonic/' + song)"
   ]
  },
  {
   "cell_type": "code",
   "execution_count": 5,
   "metadata": {},
   "outputs": [],
   "source": [
    "streams = [converter.parse('./giuliani-monophonic/' + song) for song in songList]\n",
    "chordifiedStreams = [stream.chordify() for stream in streams]"
   ]
  },
  {
   "cell_type": "code",
   "execution_count": 6,
   "metadata": {},
   "outputs": [
    {
     "name": "stdout",
     "output_type": "stream",
     "text": [
      "Original chords:  ['D5', 'G3.D5', 'B3.D5', 'D4.D5', 'G3.B4', 'B3.B4', 'D4.B4', 'G3.G4', 'B3.G4', 'D4.G4']\n"
     ]
    }
   ],
   "source": [
    "originalChords = [[] for _ in chordifiedStreams]\n",
    "originalDurations = [[] for _ in chordifiedStreams]\n",
    "originalKeys = []\n",
    "\n",
    "for i, song in enumerate(chordifiedStreams):\n",
    "    originalKeys.append(str(song.analyze('key')))\n",
    "\n",
    "    for measure in song.recurse().getElementsByClass('Measure'):\n",
    "        for element in measure:\n",
    "            if isinstance(element, chord.Chord):\n",
    "                originalChords[i].append('.'.join(str(n) for n in element.pitches))\n",
    "                originalDurations[i].append(element.duration.quarterLength)\n",
    "\n",
    "print('Original chords: ', originalChords[0][:10])"
   ]
  },
  {
   "cell_type": "code",
   "execution_count": 7,
   "metadata": {},
   "outputs": [
    {
     "name": "stdout",
     "output_type": "stream",
     "text": [
      "['G major', 'C major', 'G major', 'a minor', 'C major', 'a minor', 'd minor', 'D major', 'C major', 'G major', 'G major', 'C major', 'a minor', 'A major', 'A major', 'C major', 'D major', 'C major', 'D major', 'D major', 'C major', 'C major', 'A major', 'a minor', 'G major', 'A major', 'a minor', 'G major', 'C major', 'C major', 'a minor', 'g minor']\n",
      "C major is the most common key with 10 occurrences\n"
     ]
    }
   ],
   "source": [
    "print(originalKeys)\n",
    "\n",
    "mostCommonKey = max(set(originalKeys), key=originalKeys.count)\n",
    "\n",
    "print(mostCommonKey , 'is the most common key with' , originalKeys.count(mostCommonKey) , 'occurrences')"
   ]
  },
  {
   "cell_type": "code",
   "execution_count": 8,
   "metadata": {},
   "outputs": [
    {
     "name": "stdout",
     "output_type": "stream",
     "text": [
      "10 songs in the most common key\n"
     ]
    }
   ],
   "source": [
    "mckChords = []\n",
    "mckDurations = []\n",
    "\n",
    "for key in originalKeys:\n",
    "    if key == mostCommonKey:\n",
    "        mckChords.append(originalChords[originalKeys.index(key)])\n",
    "        mckDurations.append(originalDurations[originalKeys.index(key)])\n",
    "\n",
    "print(len(mckChords) , 'songs in the most common key')"
   ]
  },
  {
   "cell_type": "code",
   "execution_count": 9,
   "metadata": {},
   "outputs": [],
   "source": [
    "uniqueChords = np.unique([i for s in originalChords for i in s])\n",
    "chordToInt = dict(zip(uniqueChords, list(range(0, len(uniqueChords)))))\n",
    "\n",
    "uniqueDurations = np.unique([i for s in originalDurations for i in s])\n",
    "durationToInt = dict(zip(uniqueDurations, list(range(0, len(uniqueDurations)))))\n",
    "\n",
    "intToChord = {i: c for c, i in chordToInt.items()}\n",
    "intToDuration = {i: c for c, i in durationToInt.items()}"
   ]
  },
  {
   "cell_type": "code",
   "execution_count": 10,
   "metadata": {},
   "outputs": [],
   "source": [
    "# Set sequence length\n",
    "sequenceLength = 32\n",
    "\n",
    "# Define empty array for train data\n",
    "trainChords = []\n",
    "trainDurations = []\n",
    "targetChords = []\n",
    "targetDurations = []\n",
    "\n",
    "# Construct train and target sequences for chords and durations\n",
    "for s in range(len(mckChords)):\n",
    "    chordList = [chordToInt[c] for c in mckChords[s]]\n",
    "    durationList = [durationToInt[d] for d in mckDurations[s]]\n",
    "    for i in range(len(chordList) - sequenceLength):\n",
    "        trainChords.append(chordList[i:i+sequenceLength])\n",
    "        trainDurations.append(durationList[i:i+sequenceLength])\n",
    "        targetChords.append(chordList[i+1])\n",
    "        targetDurations.append(durationList[i+1])\n"
   ]
  },
  {
   "cell_type": "code",
   "execution_count": 11,
   "metadata": {},
   "outputs": [
    {
     "ename": "AttributeError",
     "evalue": "'list' object has no attribute 'shape'",
     "output_type": "error",
     "traceback": [
      "\u001b[0;31m---------------------------------------------------------------------------\u001b[0m",
      "\u001b[0;31mAttributeError\u001b[0m                            Traceback (most recent call last)",
      "\u001b[1;32m/home/fimbul/gh/music-o-alpaca/lstm-autoencoder/script.ipynb Cell 11\u001b[0m in \u001b[0;36m<cell line: 2>\u001b[0;34m()\u001b[0m\n\u001b[1;32m      <a href='vscode-notebook-cell:/home/fimbul/gh/music-o-alpaca/lstm-autoencoder/script.ipynb#X13sZmlsZQ%3D%3D?line=0'>1</a>\u001b[0m \u001b[39m# Define number of samples, notes and chords, and durations\u001b[39;00m\n\u001b[0;32m----> <a href='vscode-notebook-cell:/home/fimbul/gh/music-o-alpaca/lstm-autoencoder/script.ipynb#X13sZmlsZQ%3D%3D?line=1'>2</a>\u001b[0m nSamples \u001b[39m=\u001b[39m trainChords\u001b[39m.\u001b[39;49mshape[\u001b[39m0\u001b[39m]\n\u001b[1;32m      <a href='vscode-notebook-cell:/home/fimbul/gh/music-o-alpaca/lstm-autoencoder/script.ipynb#X13sZmlsZQ%3D%3D?line=2'>3</a>\u001b[0m nChords \u001b[39m=\u001b[39m trainChords\u001b[39m.\u001b[39mshape[\u001b[39m1\u001b[39m]\n\u001b[1;32m      <a href='vscode-notebook-cell:/home/fimbul/gh/music-o-alpaca/lstm-autoencoder/script.ipynb#X13sZmlsZQ%3D%3D?line=3'>4</a>\u001b[0m nDurations \u001b[39m=\u001b[39m trainDurations\u001b[39m.\u001b[39mshape[\u001b[39m1\u001b[39m]\n",
      "\u001b[0;31mAttributeError\u001b[0m: 'list' object has no attribute 'shape'"
     ]
    }
   ],
   "source": [
    "# Define number of samples, notes and chords, and durations\n",
    "nSamples = trainChords.shape[0]\n",
    "nChords = trainChords.shape[1]\n",
    "nDurations = trainDurations.shape[1]\n",
    "\n",
    "# Set the input dimension\n",
    "inputDim = nChords * sequenceLength\n",
    "\n",
    "# Set the embedding layer dimension\n",
    "embedDim = 64\n"
   ]
  },
  {
   "cell_type": "code",
   "execution_count": null,
   "metadata": {},
   "outputs": [],
   "source": [
    "# Define input layers\n",
    "chordInput = tf.keras.layers.Input(shape = (None,))\n",
    "durationInput = tf.keras.layers.Input(shape = (None,))\n",
    "\n",
    "# Define embedding layers\n",
    "chordEmbedding = tf.keras.layers.Embedding(nChords, embedDim, input_length = sequenceLength)(chordInput)\n",
    "durationEmbedding = tf.keras.layers.Embedding(nDurations, embedDim, input_length = sequenceLength)(durationInput)\n",
    "\n",
    "# Merge embedding layers using a concatenation layer\n",
    "mergeLayer = tf.keras.layers.Concatenate(axis=1)([chordEmbedding, durationEmbedding])\n",
    "\n",
    "# Define LSTM layer\n",
    "lstmLayer = tf.keras.layers.LSTM(512, return_sequences=True)(mergeLayer)\n",
    "\n",
    "# Define dense layer\n",
    "denseLayer = tf.keras.layers.Dense(256)(lstmLayer)\n",
    "\n",
    "# Define output layers\n",
    "chordOutput = tf.keras.layers.Dense(nChords, activation = 'softmax')(denseLayer)\n",
    "durationOutput = tf.keras.layers.Dense(nDurations, activation = 'softmax')(denseLayer)\n",
    "\n",
    "# Define model\n",
    "lstm = tf.keras.Model(inputs = [chordInput, durationInput], outputs = [chordOutput, durationOutput])\n"
   ]
  },
  {
   "cell_type": "code",
   "execution_count": null,
   "metadata": {},
   "outputs": [],
   "source": [
    "# Compile the model\n",
    "lstm.compile(loss='categorical_crossentropy', optimizer='rmsprop')\n",
    "\n",
    "# Train the model\n",
    "lstm.fit([trainChords, trainDurations], [targetChords, targetDurations],\n",
    "            epochs=500, batch_size=64)\n"
   ]
  },
  {
   "cell_type": "code",
   "execution_count": null,
   "metadata": {},
   "outputs": [],
   "source": [
    "# Define initial chord and duration sequences\n",
    "initialChords = np.expand_dims(trainChords[0,:].copy(), 0)\n",
    "initialDurations = np.expand_dims(trainDurations[0,:].copy(), 0)\n",
    "\n",
    "# Define function to predict chords and durations\n",
    "def predictChords(chordSequence, durationSequence):\n",
    "    predictedChords, predictedDurations = model.predict(model.predict([chordSequence, durationSequence]))\n",
    "    return np.argmax(predictedChords), np.argmax(predictedDurations)\n",
    "\n",
    "# Define empty lists for generated chords and durations\n",
    "newChords, newDurations = [], []\n",
    "\n",
    "# Generate chords and durations using 500 rounds of prediction\n",
    "for j in range(500):\n",
    "    newChord, newDuration = predictChords(initialChords, initialDurations)\n",
    "    newChords.append(newChord)\n",
    "    newDurations.append(newDuration)\n",
    "    initialChords[0][:-1] = initialChords[0][1:]\n",
    "    initialChords[0][-1] = newChord\n",
    "    initialDurations[0][:-1] = initialDurations[0][1:]\n",
    "    initialDurations[0][-1] = newDuration\n"
   ]
  },
  {
   "cell_type": "code",
   "execution_count": null,
   "metadata": {},
   "outputs": [],
   "source": [
    "# Create stream object and add guitar as instrument\n",
    "generatedStream = stream.Stream()\n",
    "generatedStream.append(instrument.Guitar())\n",
    "\n",
    "# Add notes and durations to stream\n",
    "for j in range(len(chordSequence)):\n",
    "    try:\n",
    "        generatedStream.append(note.Note(chordSequence[j].replace('.', ' '), quarterType = durationSequence[j]))\n",
    "    except:\n",
    "        generatedStream.append(chord.Chord(chordSequence[j].replace('.', ' '), quarterType = durationSequence[j]))\n",
    "\n",
    "# Export as MIDI file\n",
    "generatedStream.write('midi', fp=generated_dir+'lstm.mid')\n"
   ]
  },
  {
   "cell_type": "code",
   "execution_count": null,
   "metadata": {},
   "outputs": [],
   "source": []
  }
 ],
 "metadata": {
  "kernelspec": {
   "display_name": "Python 3.10.6 64-bit",
   "language": "python",
   "name": "python3"
  },
  "language_info": {
   "codemirror_mode": {
    "name": "ipython",
    "version": 3
   },
   "file_extension": ".py",
   "mimetype": "text/x-python",
   "name": "python",
   "nbconvert_exporter": "python",
   "pygments_lexer": "ipython3",
   "version": "3.10.6"
  },
  "orig_nbformat": 4,
  "vscode": {
   "interpreter": {
    "hash": "e7370f93d1d0cde622a1f8e1c04877d8463912d04d973331ad4851f04de6915a"
   }
  }
 },
 "nbformat": 4,
 "nbformat_minor": 2
}
