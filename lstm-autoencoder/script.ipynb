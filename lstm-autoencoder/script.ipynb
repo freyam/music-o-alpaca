{
 "cells": [
  {
   "cell_type": "code",
   "execution_count": 26,
   "metadata": {},
   "outputs": [],
   "source": [
    "import os\n",
    "from music21 import converter, pitch, interval, instrument, note, chord\n",
    "import numpy as np\n",
    "import json\n",
    "\n",
    "data = './data/'\n",
    "\n",
    "if not os.path.exists(data):\n",
    "    os.makedirs(data)"
   ]
  },
  {
   "cell_type": "code",
   "execution_count": 27,
   "metadata": {},
   "outputs": [
    {
     "name": "stdout",
     "output_type": "stream",
     "text": [
      "88 songs found by Giuliani\n"
     ]
    }
   ],
   "source": [
    "songList = [song for song in os.listdir(data) if song.lower().find('giuliani')>-1]\n",
    "print(len(songList) , 'songs found by Giuliani')"
   ]
  },
  {
   "cell_type": "code",
   "execution_count": 28,
   "metadata": {},
   "outputs": [
    {
     "name": "stdout",
     "output_type": "stream",
     "text": [
      "32 monophonic songs found by Giuliani\n"
     ]
    }
   ],
   "source": [
    "def monophonic(stream):\n",
    "    return len(instrument.partitionByInstrument(stream).parts) == 1\n",
    "\n",
    "songList = [song for song in songList if monophonic(converter.parse(data+song))]\n",
    "print(len(songList) , 'monophonic songs found by Giuliani')"
   ]
  },
  {
   "cell_type": "code",
   "execution_count": 29,
   "metadata": {},
   "outputs": [],
   "source": [
    "if not os.path.exists('./giuliani-monophonic/'):\n",
    "    os.makedirs('./giuliani-monophonic/')\n",
    "\n",
    "for song in songList:\n",
    "    os.system('cp ' + data + song + ' ./giuliani-monophonic/' + song)"
   ]
  },
  {
   "cell_type": "code",
   "execution_count": 30,
   "metadata": {},
   "outputs": [],
   "source": [
    "streams = [converter.parse('./giuliani-monophonic/' + song) for song in songList]\n",
    "chordifiedStreams = [stream.chordify() for stream in streams]"
   ]
  },
  {
   "cell_type": "code",
   "execution_count": 35,
   "metadata": {},
   "outputs": [
    {
     "name": "stdout",
     "output_type": "stream",
     "text": [
      "Original chords:  ['D5', 'G3.D5', 'B3.D5', 'D4.D5', 'G3.B4', 'B3.B4', 'D4.B4', 'G3.G4', 'B3.G4', 'D4.G4']\n"
     ]
    }
   ],
   "source": [
    "originalChords = [[] for _ in chordifiedStreams]\n",
    "originalDurations = [[] for _ in chordifiedStreams]\n",
    "originalKeys = []\n",
    "\n",
    "for i, song in enumerate(chordifiedStreams):\n",
    "    originalKeys.append(str(song.analyze('key')))\n",
    "\n",
    "    for measure in song.recurse().getElementsByClass('Measure'):\n",
    "        for element in measure:\n",
    "            if isinstance(element, chord.Chord):\n",
    "                originalChords[i].append('.'.join(str(n) for n in element.pitches))\n",
    "                originalDurations[i].append(element.duration.quarterLength)\n",
    "\n",
    "print('Original chords: ', originalChords[0][:10])"
   ]
  },
  {
   "cell_type": "code",
   "execution_count": 36,
   "metadata": {},
   "outputs": [
    {
     "name": "stdout",
     "output_type": "stream",
     "text": [
      "['G major', 'C major', 'G major', 'a minor', 'C major', 'a minor', 'd minor', 'D major', 'C major', 'G major', 'G major', 'C major', 'a minor', 'A major', 'A major', 'C major', 'D major', 'C major', 'D major', 'D major', 'C major', 'C major', 'A major', 'a minor', 'G major', 'A major', 'a minor', 'G major', 'C major', 'C major', 'a minor', 'g minor']\n",
      "C major is the most common key with 10 occurrences\n"
     ]
    }
   ],
   "source": [
    "print(originalKeys)\n",
    "\n",
    "mostCommonKey = max(set(originalKeys), key=originalKeys.count)\n",
    "\n",
    "print(mostCommonKey , 'is the most common key with' , originalKeys.count(mostCommonKey) , 'occurrences')"
   ]
  },
  {
   "cell_type": "code",
   "execution_count": 37,
   "metadata": {},
   "outputs": [
    {
     "name": "stdout",
     "output_type": "stream",
     "text": [
      "10 songs in the most common key\n"
     ]
    }
   ],
   "source": [
    "mckChords = []\n",
    "mckDurations = []\n",
    "\n",
    "for key in originalKeys:\n",
    "    if key == mostCommonKey:\n",
    "        mckChords.append(originalChords[originalKeys.index(key)])\n",
    "        mckDurations.append(originalDurations[originalKeys.index(key)])\n",
    "\n",
    "print(len(mckChords) , 'songs in the most common key')"
   ]
  },
  {
   "cell_type": "code",
   "execution_count": 41,
   "metadata": {},
   "outputs": [],
   "source": [
    "uniqueChords = np.unique([i for s in originalChords for i in s])\n",
    "chordToInt = dict(zip(uniqueChords, list(range(0, len(uniqueChords)))))\n",
    "\n",
    "uniqueDurations = np.unique([i for s in originalDurations for i in s])\n",
    "durationToInt = dict(zip(uniqueDurations, list(range(0, len(uniqueDurations)))))\n",
    "\n",
    "intToChord = {i: c for c, i in chordToInt.items()}\n",
    "intToDuration = {i: c for c, i in durationToInt.items()}"
   ]
  },
  {
   "cell_type": "code",
   "execution_count": 43,
   "metadata": {},
   "outputs": [],
   "source": [
    "trainingWidth = 32\n",
    "\n",
    "trainChords = []\n",
    "trainDurations = []\n",
    "\n",
    "for i in range(len(mckChords)):\n",
    "    chordList = [chordToInt[chord] for chord in mckChords[i]]\n",
    "    durationList = [durationToInt[duration] for duration in mckDurations[i]]\n",
    "\n",
    "    for j in range(len(chordList) - trainingWidth):\n",
    "        trainChords.append(chordList[j:j+trainingWidth])\n",
    "        trainDurations.append(durationList[j:j+trainingWidth])"
   ]
  }
 ],
 "metadata": {
  "kernelspec": {
   "display_name": "Python 3.10.6 64-bit",
   "language": "python",
   "name": "python3"
  },
  "language_info": {
   "codemirror_mode": {
    "name": "ipython",
    "version": 3
   },
   "file_extension": ".py",
   "mimetype": "text/x-python",
   "name": "python",
   "nbconvert_exporter": "python",
   "pygments_lexer": "ipython3",
   "version": "3.10.6"
  },
  "orig_nbformat": 4,
  "vscode": {
   "interpreter": {
    "hash": "e7370f93d1d0cde622a1f8e1c04877d8463912d04d973331ad4851f04de6915a"
   }
  }
 },
 "nbformat": 4,
 "nbformat_minor": 2
}
